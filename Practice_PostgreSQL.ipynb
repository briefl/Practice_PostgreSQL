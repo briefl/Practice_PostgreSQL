{
 "cells": [
  {
   "cell_type": "code",
   "execution_count": 5,
   "id": "971c6b1f",
   "metadata": {},
   "outputs": [
    {
     "name": "stdout",
     "output_type": "stream",
     "text": [
      "Requirement already satisfied: psycopg2 in c:\\users\\public\\anaco\\lib\\site-packages (2.9.3)\n"
     ]
    }
   ],
   "source": [
    "!pip install psycopg2"
   ]
  },
  {
   "cell_type": "code",
   "execution_count": 15,
   "id": "b7805c6e",
   "metadata": {},
   "outputs": [
    {
     "name": "stderr",
     "output_type": "stream",
     "text": [
      "ERROR: Invalid requirement: 'psycopg2=2.8.6'\n",
      "Hint: = is not a valid operator. Did you mean == ?\n"
     ]
    }
   ],
   "source": [
    "!pip install psycopg2=2.8.6"
   ]
  },
  {
   "cell_type": "code",
   "execution_count": 4,
   "id": "03b07b15",
   "metadata": {},
   "outputs": [
    {
     "name": "stderr",
     "output_type": "stream",
     "text": [
      "\n",
      "Usage:   \n",
      "  C:\\Users\\Public\\anaco\\python.exe -m pip install [options] <requirement specifier> [package-index-options] ...\n",
      "  C:\\Users\\Public\\anaco\\python.exe -m pip install [options] -r <requirements file> [package-index-options] ...\n",
      "  C:\\Users\\Public\\anaco\\python.exe -m pip install [options] [-e] <vcs project url> ...\n",
      "  C:\\Users\\Public\\anaco\\python.exe -m pip install [options] [-e] <local project path> ...\n",
      "  C:\\Users\\Public\\anaco\\python.exe -m pip install [options] <archive url/path> ...\n",
      "\n",
      "--trusted-host option requires 1 argument\n"
     ]
    }
   ],
   "source": [
    "!python -m pip install --trusted-host pypi.org --trusted-host "
   ]
  },
  {
   "cell_type": "code",
   "execution_count": 6,
   "id": "6ea8b78e",
   "metadata": {},
   "outputs": [
    {
     "name": "stderr",
     "output_type": "stream",
     "text": [
      "\"files.pythonhosted.org\" ­Ґ пў«пҐвбп ў­гваҐ­­Ґ© Ё«Ё ў­Ґи­Ґ©\n",
      "Є®¬ ­¤®©, ЁбЇ®«­пҐ¬®© Їа®Ја ¬¬®© Ё«Ё Ї ЄҐв­л¬ д ©«®¬.\n"
     ]
    }
   ],
   "source": [
    "!files.pythonhosted.org --trusted-host pypi.python.org psycopg2"
   ]
  },
  {
   "cell_type": "code",
   "execution_count": 8,
   "id": "36cfbf5b",
   "metadata": {},
   "outputs": [
    {
     "name": "stdout",
     "output_type": "stream",
     "text": [
      "Ошибка при работе с PostgreSQL ОШИБКА:  база данных \"postgres_db\" уже существует\n",
      "\n",
      "Соединение с PostgreSQL закрыто\n"
     ]
    }
   ],
   "source": [
    "\n",
    "import psycopg2\n",
    "from psycopg2 import Error\n",
    "from psycopg2.extensions import ISOLATION_LEVEL_AUTOCOMMIT\n",
    "try:\n",
    "    # Подключение к существующей базе данных\n",
    "    connection = psycopg2.connect(user=\"postgres\",\n",
    "                                  # пароль, который указали при установке PostgreSQL\n",
    "                                  password=\"Karim2003\",\n",
    "                                  host=\"127.0.0.1\",\n",
    "                                  port=\"5432\")\n",
    "    connection.set_isolation_level(ISOLATION_LEVEL_AUTOCOMMIT)\n",
    "    # Курсор для выполнения операций с базой данных\n",
    "    cursor = connection.cursor()\n",
    "    sql_create_database = 'create database postgres_db'\n",
    "    cursor.execute(sql_create_database)\n",
    "except (Exception, Error) as error:\n",
    "    print(\"Ошибка при работе с PostgreSQL\", error)\n",
    "finally:\n",
    "    if connection:\n",
    "        cursor.close()\n",
    "        connection.close()\n",
    "        print(\"Соединение с PostgreSQL закрыто\")"
   ]
  },
  {
   "cell_type": "code",
   "execution_count": 16,
   "id": "1702115e",
   "metadata": {},
   "outputs": [
    {
     "name": "stdout",
     "output_type": "stream",
     "text": [
      "Информация о сервере PostgreSQL\n",
      "{'user': 'postgres', 'channel_binding': 'prefer', 'dbname': 'postgres_db', 'host': '127.0.0.1', 'port': '5432', 'options': '', 'sslmode': 'prefer', 'sslcompression': '0', 'sslsni': '1', 'ssl_min_protocol_version': 'TLSv1.2', 'gssencmode': 'disable', 'krbsrvname': 'postgres', 'target_session_attrs': 'any'} \n",
      "\n",
      "Вы подключены к -  ('PostgreSQL 14.4, compiled by Visual C++ build 1914, 64-bit',) \n",
      "\n",
      "Соединение с PostgreSQL закрыто\n"
     ]
    }
   ],
   "source": [
    "\n",
    "import psycopg2\n",
    "from psycopg2 import Error\n",
    "\n",
    "try:\n",
    "    # Подключение к существующей базе данных\n",
    "    connection = psycopg2.connect(user=\"postgres\",\n",
    "                                  # пароль, который указали при установке PostgreSQL\n",
    "                                  password=\"Karim2003\",\n",
    "                                  host=\"127.0.0.1\",\n",
    "                                  port=\"5432\",\n",
    "                                  database=\"postgres_db\")\n",
    "\n",
    "    # Курсор для выполнения операций с базой данных\n",
    "    cursor = connection.cursor()\n",
    "    # Распечатать сведения о PostgreSQL\n",
    "    print(\"Информация о сервере PostgreSQL\")\n",
    "    print(connection.get_dsn_parameters(), \"\\n\")\n",
    "    # Выполнение SQL-запроса\n",
    "    cursor.execute(\"SELECT version();\")\n",
    "    # Получить результат\n",
    "    record = cursor.fetchone()\n",
    "    print(\"Вы подключены к - \", record, \"\\n\")\n",
    "\n",
    "except (Exception, Error) as error:\n",
    "    print(\"Ошибка при работе с PostgreSQL\", error)\n",
    "finally:\n",
    "    if connection:\n",
    "        cursor.close()\n",
    "        connection.close()\n",
    "        print(\"Соединение с PostgreSQL закрыто\")"
   ]
  },
  {
   "cell_type": "code",
   "execution_count": 18,
   "id": "69086489",
   "metadata": {},
   "outputs": [
    {
     "name": "stdout",
     "output_type": "stream",
     "text": [
      "Ошибка при работе с PostgreSQL ОШИБКА:  отношение \"mobile\" уже существует\n",
      "\n",
      "Соединение с PostgreSQL закрыто\n"
     ]
    }
   ],
   "source": [
    "try:\n",
    "    # Подключиться к существующей базе данных\n",
    "    connection = psycopg2.connect(user=\"postgres\",\n",
    "                                  # пароль, который указали при установке PostgreSQL\n",
    "                                  password=\"Karim2003\",\n",
    "                                  host=\"127.0.0.1\",\n",
    "                                  port=\"5432\",\n",
    "                                  database=\"postgres_db\")\n",
    "\n",
    "    # Создайте курсор для выполнения операций с базой данных\n",
    "    cursor = connection.cursor()\n",
    "    # SQL-запрос для создания новой таблицы\n",
    "    create_table_query = '''CREATE TABLE mobile\n",
    "                          (ID INT PRIMARY KEY     NOT NULL,\n",
    "                          MODEL           TEXT    NOT NULL,\n",
    "                          PRICE         REAL); '''\n",
    "    # Выполнение команды: это создает новую таблицу\n",
    "    cursor.execute(create_table_query)\n",
    "    connection.commit()\n",
    "    print(\"Таблица успешно создана в PostgreSQL\")\n",
    "\n",
    "except (Exception, Error) as error:\n",
    "    print(\"Ошибка при работе с PostgreSQL\", error)\n",
    "finally:\n",
    "    if connection:\n",
    "        cursor.close()\n",
    "        connection.close()\n",
    "        print(\"Соединение с PostgreSQL закрыто\")"
   ]
  },
  {
   "cell_type": "code",
   "execution_count": 19,
   "id": "8d6517a3",
   "metadata": {},
   "outputs": [
    {
     "name": "stdout",
     "output_type": "stream",
     "text": [
      "Выбор строк из таблицы mobile с помощью cursor.fetchall\n",
      "Вывод каждой строки и ее столбцов\n",
      "Id = 1\n",
      "Модель = IPhone 12\n",
      "Цена = 1000.0 \n",
      "\n",
      "Id = 2\n",
      "Модель = Google Pixel 2\n",
      "Цена = 700.0 \n",
      "\n",
      "Id = 3\n",
      "Модель = Samsung Galaxy S21\n",
      "Цена = 900.0 \n",
      "\n",
      "Id = 4\n",
      "Модель = Nokia\n",
      "Цена = 800.0 \n",
      "\n",
      "Соединение с PostgreSQL закрыто\n"
     ]
    }
   ],
   "source": [
    "\n",
    "import psycopg2\n",
    "from psycopg2 import Error\n",
    "\n",
    "try:\n",
    "    # Подключиться к существующей базе данных\n",
    "    connection = psycopg2.connect(user=\"postgres\",\n",
    "                                  # пароль, который указали при установке PostgreSQL\n",
    "                                  password=\"Karim2003\",\n",
    "                                  host=\"127.0.0.1\",\n",
    "                                  port=\"5432\",\n",
    "                                  database=\"postgres_db\")\n",
    "\n",
    "    cursor = connection.cursor()\n",
    "    postgreSQL_select_Query = \"select * from mobile\"\n",
    "\n",
    "    cursor.execute(postgreSQL_select_Query)\n",
    "    print(\"Выбор строк из таблицы mobile с помощью cursor.fetchall\")\n",
    "    mobile_records = cursor.fetchall()\n",
    " \n",
    "    print(\"Вывод каждой строки и ее столбцов\")\n",
    "    for row in mobile_records:\n",
    "        print(\"Id =\", row[0], )\n",
    "        print(\"Модель =\", row[1])\n",
    "        print(\"Цена =\", row[2], \"\\n\")\n",
    "\n",
    "except (Exception, Error) as error:\n",
    "    print(\"Ошибка при работе с PostgreSQL\", error)\n",
    "finally:\n",
    "    if connection:\n",
    "        cursor.close()\n",
    "        connection.close()\n",
    "        print(\"Соединение с PostgreSQL закрыто\")"
   ]
  },
  {
   "cell_type": "code",
   "execution_count": 22,
   "id": "efd509dd",
   "metadata": {},
   "outputs": [
    {
     "name": "stdout",
     "output_type": "stream",
     "text": [
      "Id = 2\n",
      "Модель = Google Pixel 2\n",
      "Цена = 700.0\n",
      "Соединение с PostgreSQL закрыто\n",
      "Id = 3\n",
      "Модель = Samsung Galaxy S21\n",
      "Цена = 900.0\n",
      "Соединение с PostgreSQL закрыто\n"
     ]
    }
   ],
   "source": [
    "\n",
    "\n",
    "def get_mobile_details(mobile_id):\n",
    "    try:\n",
    "        # Подключиться к существующей базе данных\n",
    "        connection = psycopg2.connect(user=\"postgres\",\n",
    "                                      # пароль, который указали при установке PostgreSQL\n",
    "                                      password=\"Karim2003\",\n",
    "                                      host=\"127.0.0.1\",\n",
    "                                      port=\"5432\",\n",
    "                                      database=\"postgres_db\")\n",
    "\n",
    "        cursor = connection.cursor()\n",
    "        postgresql_select_query = \"select * from mobile where id = %s\"\n",
    "\n",
    "        cursor.execute(postgresql_select_query, (mobile_id,))\n",
    "        mobile_records = cursor.fetchall()\n",
    "        for row in mobile_records:\n",
    "            print(\"Id =\", row[0], )\n",
    "            print(\"Модель =\", row[1])\n",
    "            print(\"Цена =\", row[2])\n",
    "\n",
    "    except (Exception, Error) as error:\n",
    "        print(\"Ошибка при работе с PostgreSQL\", error)\n",
    "    finally:\n",
    "        if connection:\n",
    "            cursor.close()\n",
    "            connection.close()\n",
    "            print(\"Соединение с PostgreSQL закрыто\")\n",
    "\n",
    "get_mobile_details(2)\n",
    "get_mobile_details(3)"
   ]
  },
  {
   "cell_type": "code",
   "execution_count": 24,
   "id": "60a61bfe",
   "metadata": {},
   "outputs": [
    {
     "name": "stdout",
     "output_type": "stream",
     "text": [
      "Вывод двух строк\n",
      "Id = 1\n",
      "Модель = IPhone 12\n",
      "Цена = 1000.0 \n",
      "\n",
      "Id = 2\n",
      "Модель = Google Pixel 2\n",
      "Цена = 700.0 \n",
      "\n",
      "Вывод следующих двух строк\n",
      "Id = 3\n",
      "Модель = Samsung Galaxy S21\n",
      "Цена = 900.0 \n",
      "\n",
      "Id = 4\n",
      "Модель = Nokia\n",
      "Цена = 800.0 \n",
      "\n",
      "Соединение с PostgreSQL закрыто\n"
     ]
    }
   ],
   "source": [
    "try:\n",
    "    # Подключиться к существующей базе данных\n",
    "    connection = psycopg2.connect(user=\"postgres\",\n",
    "                                  # пароль, который указали при установке PostgreSQL\n",
    "                                  password=\"Karim2003\",\n",
    "                                  host=\"127.0.0.1\",\n",
    "                                  port=\"5432\",\n",
    "                                  database=\"postgres_db\")\n",
    "\n",
    "    cursor = connection.cursor()\n",
    "    postgresql_select_query = \"select * from mobile\"\n",
    "\n",
    "    cursor.execute(postgresql_select_query)\n",
    "    mobile_records = cursor.fetchmany(2)\n",
    "\n",
    "    print(\"Вывод двух строк\")\n",
    "    for row in mobile_records:\n",
    "        print(\"Id =\", row[0], )\n",
    "        print(\"Модель =\", row[1])\n",
    "        print(\"Цена =\", row[2], \"\\n\")\n",
    "\n",
    "    mobile_records = cursor.fetchmany(2)\n",
    "\n",
    "    print(\"Вывод следующих двух строк\")\n",
    "    for row in mobile_records:\n",
    "        print(\"Id =\", row[0], )\n",
    "        print(\"Модель =\", row[1])\n",
    "        print(\"Цена =\", row[2], \"\\n\")\n",
    "\n",
    "except (Exception, Error) as error:\n",
    "    print(\"Ошибка при работе с PostgreSQL\", error)\n",
    "finally:\n",
    "    if connection:\n",
    "        cursor.close()\n",
    "        connection.close()\n",
    "        print(\"Соединение с PostgreSQL закрыто\")"
   ]
  },
  {
   "cell_type": "code",
   "execution_count": 25,
   "id": "3b9bd5e9",
   "metadata": {},
   "outputs": [
    {
     "name": "stdout",
     "output_type": "stream",
     "text": [
      "Вывод первой записи (1, 'IPhone 12', 1000.0)\n",
      "Вывод второй записи (2, 'Google Pixel 2', 700.0)\n",
      "Соединение с PostgreSQL закрыто\n"
     ]
    }
   ],
   "source": [
    "try:\n",
    "    # Подключиться к существующей базе данных\n",
    "    connection = psycopg2.connect(user=\"postgres\",\n",
    "                                  # пароль, который указали при установке PostgreSQL\n",
    "                                  password=\"Karim2003\",\n",
    "                                  host=\"127.0.0.1\",\n",
    "                                  port=\"5432\",\n",
    "                                  database=\"postgres_db\")\n",
    "\n",
    "    cursor = connection.cursor()\n",
    "    postgresql_select_query = \"select * from mobile\"\n",
    "\n",
    "    cursor.execute(postgresql_select_query)\n",
    "\n",
    "    mobile_records_one = cursor.fetchone()\n",
    "    print (\"Вывод первой записи\", mobile_records_one)\n",
    "\n",
    "    mobile_records_two = cursor.fetchone()\n",
    "    print(\"Вывод второй записи\", mobile_records_two)\n",
    "\n",
    "except (Exception, Error) as error:\n",
    "    print(\"Ошибка при работе с PostgreSQL\", error)\n",
    "finally:\n",
    "    if connection:\n",
    "        cursor.close()\n",
    "        connection.close()\n",
    "        print(\"Соединение с PostgreSQL закрыто\")"
   ]
  },
  {
   "cell_type": "code",
   "execution_count": 27,
   "id": "90d5c303",
   "metadata": {},
   "outputs": [
    {
     "name": "stdout",
     "output_type": "stream",
     "text": [
      "1 Запись успешно добавлена ​​в таблицу mobile\n",
      "Соединение с PostgreSQL закрыто\n"
     ]
    }
   ],
   "source": [
    "\n",
    "try:\n",
    "    # Подключиться к существующей базе данных\n",
    "    connection = psycopg2.connect(user=\"postgres\",\n",
    "                                  # пароль, который указали при установке PostgreSQL\n",
    "                                  password=\"Karim2003\",\n",
    "                                  host=\"127.0.0.1\",\n",
    "                                  port=\"5432\",\n",
    "                                  database=\"postgres_db\")\n",
    "\n",
    "    cursor = connection.cursor()\n",
    "    postgres_insert_query = \"\"\" INSERT INTO mobile (ID, MODEL, PRICE)\n",
    "                                       VALUES (%s,%s,%s)\"\"\"\n",
    "    record_to_insert = (5, 'One Plus 6', 950)\n",
    "    cursor.execute(postgres_insert_query, record_to_insert)\n",
    "\n",
    "    connection.commit()\n",
    "    count = cursor.rowcount\n",
    "    print (count, \"Запись успешно добавлена ​​в таблицу mobile\")\n",
    "\n",
    "except (Exception, Error) as error:\n",
    "    print(\"Ошибка при работе с PostgreSQL\", error)\n",
    "finally:\n",
    "    if connection:\n",
    "        cursor.close()\n",
    "        connection.close()\n",
    "        print(\"Соединение с PostgreSQL закрыто\")"
   ]
  },
  {
   "cell_type": "code",
   "execution_count": 28,
   "id": "9e1c7c52",
   "metadata": {},
   "outputs": [
    {
     "name": "stdout",
     "output_type": "stream",
     "text": [
      "Таблица до обновления записи\n",
      "(3, 'Samsung Galaxy S21', 900.0)\n",
      "1 Запись успешно обновлена\n",
      "Таблица после обновления записи\n",
      "(3, 'Samsung Galaxy S21', 970.0)\n",
      "Соединение с PostgreSQL закрыто\n"
     ]
    }
   ],
   "source": [
    "\n",
    "def update_table(mobile_id, price):\n",
    "    try:\n",
    "        # Подключиться к существующей базе данных\n",
    "        connection = psycopg2.connect(user=\"postgres\",\n",
    "                                      # пароль, который указали при установке PostgreSQL\n",
    "                                      password=\"Karim2003\",\n",
    "                                      host=\"127.0.0.1\",\n",
    "                                      port=\"5432\",\n",
    "                                      database=\"postgres_db\")\n",
    "\n",
    "        cursor = connection.cursor()\n",
    "        print(\"Таблица до обновления записи\")\n",
    "        sql_select_query = \"\"\"select * from mobile where id = %s\"\"\"\n",
    "        cursor.execute(sql_select_query, (mobile_id,))\n",
    "        record = cursor.fetchone()\n",
    "        print(record)\n",
    "\n",
    "        # Обновление отдельной записи\n",
    "        sql_update_query = \"\"\"Update mobile set price = %s where id = %s\"\"\"\n",
    "        cursor.execute(sql_update_query, (price, mobile_id))\n",
    "        connection.commit()\n",
    "        count = cursor.rowcount\n",
    "        print(count, \"Запись успешно обновлена\")\n",
    "\n",
    "        print(\"Таблица после обновления записи\")\n",
    "        sql_select_query = \"\"\"select * from mobile where id = %s\"\"\"\n",
    "        cursor.execute(sql_select_query, (mobile_id,))\n",
    "        record = cursor.fetchone()\n",
    "        print(record)        \n",
    "\n",
    "    except (Exception, Error) as error:\n",
    "        print(\"Ошибка при работе с PostgreSQL\", error)\n",
    "    finally:\n",
    "        if connection:\n",
    "            cursor.close()\n",
    "            connection.close()\n",
    "            print(\"Соединение с PostgreSQL закрыто\")\n",
    "\n",
    "update_table(3, 970)"
   ]
  },
  {
   "cell_type": "code",
   "execution_count": 29,
   "id": "6d77a479",
   "metadata": {},
   "outputs": [
    {
     "name": "stdout",
     "output_type": "stream",
     "text": [
      "1 Запись успешно удалена\n",
      "Соединение с PostgreSQL закрыто\n",
      "1 Запись успешно удалена\n",
      "Соединение с PostgreSQL закрыто\n"
     ]
    }
   ],
   "source": [
    "def delete_data(mobile_id):\n",
    "    try:\n",
    "        # Подключиться к существующей базе данных\n",
    "        connection = psycopg2.connect(user=\"postgres\",\n",
    "                                      # пароль, который указали при установке PostgreSQL\n",
    "                                      password=\"Karim2003\",\n",
    "                                      host=\"127.0.0.1\",\n",
    "                                      port=\"5432\",\n",
    "                                      database=\"postgres_db\")\n",
    "\n",
    "        cursor = connection.cursor()\n",
    "        # Удаление записи\n",
    "        sql_delete_query = \"\"\"Delete from mobile where id = %s\"\"\"\n",
    "        cursor.execute(sql_delete_query, (mobile_id,))\n",
    "        connection.commit()\n",
    "        count = cursor.rowcount\n",
    "        print(count, \"Запись успешно удалена\")\n",
    "\n",
    "    except (Exception, Error) as error:\n",
    "        print(\"Ошибка при работе с PostgreSQL\", error)\n",
    "    finally:\n",
    "        if connection:\n",
    "            cursor.close()\n",
    "            connection.close()\n",
    "            print(\"Соединение с PostgreSQL закрыто\")\n",
    "\n",
    "delete_data(4)\n",
    "delete_data(5)"
   ]
  },
  {
   "cell_type": "code",
   "execution_count": null,
   "id": "e49c86a7",
   "metadata": {},
   "outputs": [],
   "source": []
  }
 ],
 "metadata": {
  "kernelspec": {
   "display_name": "Python 3",
   "language": "python",
   "name": "python3"
  },
  "language_info": {
   "codemirror_mode": {
    "name": "ipython",
    "version": 3
   },
   "file_extension": ".py",
   "mimetype": "text/x-python",
   "name": "python",
   "nbconvert_exporter": "python",
   "pygments_lexer": "ipython3",
   "version": "3.8.8"
  }
 },
 "nbformat": 4,
 "nbformat_minor": 5
}
